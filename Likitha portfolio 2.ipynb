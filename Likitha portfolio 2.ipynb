{
 "cells": [
  {
   "cell_type": "markdown",
   "metadata": {
    "id": "rSF_UH-XklO4"
   },
   "source": [
    "## Analysis of a Car Sell Dataset Part 2"
   ]
  },
  {
   "cell_type": "markdown",
   "metadata": {
    "id": "aWJHrXuwklO5"
   },
   "source": [
    "There are two goals in the second analysis task: (1), train linear regression models to predict the selling prices of cars; (2) assess the data ethics issues. There are *7* questions in this portfolio. \n",
    "\n",
    "The first goal involves a standard Data Science workflow: exploring data, building models, making predictions, and evaluating results. In this task, we will explore the impacts of feature selections and different sizes of training/testing data on the model performance. We will use another cleaned car_sells sub-dataset that **is different from** the one in “Analysis of a Car Sell Dataset” task 1. This goal covers Questions *1-6*. \n",
    "\n",
    "Question *7* is about data ethics issue."
   ]
  },
  {
   "cell_type": "code",
   "execution_count": 5,
   "id": "c28ab609",
   "metadata": {},
   "outputs": [],
   "source": [
    "your_name = \"Likitha Vankadoth\"\n",
    "your_student_id = \"48722553\""
   ]
  },
  {
   "cell_type": "code",
   "execution_count": 6,
   "id": "7fae2455",
   "metadata": {},
   "outputs": [],
   "source": [
    "import pandas as pd\n",
    "import numpy as np\n",
    "from sklearn.model_selection import train_test_split\n",
    "from sklearn import linear_model\n",
    "from sklearn.metrics import r2_score\n",
    "\n",
    "import seaborn as sns\n",
    "import matplotlib.pylab as plt\n",
    "%matplotlib inline"
   ]
  },
  {
   "cell_type": "markdown",
   "metadata": {
    "id": "0g4OhHHzklO6"
   },
   "source": [
    "### Q1: Import Cleaned Car Sell Dataset\n",
    "The csv file named 'car_sells_clean_data.csv' is provided. You may need to use the Pandas method, i.e., `read_csv`, for reading it. After that, please print out its total length."
   ]
  },
  {
   "cell_type": "code",
   "execution_count": 7,
   "id": "5d7633bf",
   "metadata": {
    "colab": {
     "base_uri": "https://localhost:8080/"
    },
    "id": "9ki1LBees70W",
    "outputId": "d3ff4349-47d0-423b-ef22-caf78c9883f5"
   },
   "outputs": [
    {
     "name": "stdout",
     "output_type": "stream",
     "text": [
      "(3657, 8)\n",
      "3657\n"
     ]
    }
   ],
   "source": [
    "car_sells_cleaned = pd.read_csv('car_sells_clean_data.csv')\n",
    "\n",
    "print(car_sells_cleaned.shape)\n",
    "print(len(car_sells_cleaned))"
   ]
  },
  {
   "cell_type": "markdown",
   "metadata": {
    "id": "RpXf1q3UklO7"
   },
   "source": [
    "### Q2: Explore the Dataset\n",
    "\n",
    "* Use the methods, i.e., `head()` and `info()`, to have a rough picture about the data, e.g., how many columns, and the data types of each column.\n",
    "* As our goal is to predict cars' selling prices given other columns, please get the correlations between year/km_driven/seller_type/fuel/owner and selling_price by using the `corr()` method.\n",
    "* To get the correlations between different features, you may need to first convert the categorical features (i.e., seller_type and owner) into numerial values. For doing this, you may need to import `OrdinalEncoder` from `sklearn.preprocessing` (refer to the useful exmaples [here](https://pbpython.com/categorical-encoding.html))\n",
    "* Please provide ___necessary explanations/analysis___ on the correlations, and figure out which are the ___most___ and ___least___ corrleated features regarding selling_price. Try to ___discuss___ how the correlation will affect the final prediction results, if we use these features to train a regression model for selling_price prediction. In what follows, we will conduct experiments to verify your hypothesis."
   ]
  },
  {
   "cell_type": "code",
   "execution_count": 8,
   "id": "60451296",
   "metadata": {},
   "outputs": [
    {
     "data": {
      "text/html": [
       "<div>\n",
       "<style scoped>\n",
       "    .dataframe tbody tr th:only-of-type {\n",
       "        vertical-align: middle;\n",
       "    }\n",
       "\n",
       "    .dataframe tbody tr th {\n",
       "        vertical-align: top;\n",
       "    }\n",
       "\n",
       "    .dataframe thead th {\n",
       "        text-align: right;\n",
       "    }\n",
       "</style>\n",
       "<table border=\"1\" class=\"dataframe\">\n",
       "  <thead>\n",
       "    <tr style=\"text-align: right;\">\n",
       "      <th></th>\n",
       "      <th>name</th>\n",
       "      <th>year</th>\n",
       "      <th>selling_price</th>\n",
       "      <th>km_driven</th>\n",
       "      <th>fuel</th>\n",
       "      <th>seller_type</th>\n",
       "      <th>transmission</th>\n",
       "      <th>owner</th>\n",
       "    </tr>\n",
       "  </thead>\n",
       "  <tbody>\n",
       "    <tr>\n",
       "      <th>0</th>\n",
       "      <td>Maruti 800 AC</td>\n",
       "      <td>2007.0</td>\n",
       "      <td>60000</td>\n",
       "      <td>70000</td>\n",
       "      <td>Petrol</td>\n",
       "      <td>Individual</td>\n",
       "      <td>Manual</td>\n",
       "      <td>First Owner</td>\n",
       "    </tr>\n",
       "    <tr>\n",
       "      <th>1</th>\n",
       "      <td>Maruti Wagon R LXI Minor</td>\n",
       "      <td>2007.0</td>\n",
       "      <td>135000</td>\n",
       "      <td>50000</td>\n",
       "      <td>Petrol</td>\n",
       "      <td>Individual</td>\n",
       "      <td>Manual</td>\n",
       "      <td>First Owner</td>\n",
       "    </tr>\n",
       "    <tr>\n",
       "      <th>2</th>\n",
       "      <td>Hyundai Verna 1.6 SX</td>\n",
       "      <td>2012.0</td>\n",
       "      <td>600000</td>\n",
       "      <td>100000</td>\n",
       "      <td>Diesel</td>\n",
       "      <td>Individual</td>\n",
       "      <td>Manual</td>\n",
       "      <td>First Owner</td>\n",
       "    </tr>\n",
       "    <tr>\n",
       "      <th>3</th>\n",
       "      <td>Datsun RediGO T Option</td>\n",
       "      <td>2017.0</td>\n",
       "      <td>250000</td>\n",
       "      <td>46000</td>\n",
       "      <td>Petrol</td>\n",
       "      <td>Individual</td>\n",
       "      <td>Manual</td>\n",
       "      <td>First Owner</td>\n",
       "    </tr>\n",
       "    <tr>\n",
       "      <th>4</th>\n",
       "      <td>Honda Amaze VX i-DTEC</td>\n",
       "      <td>2014.0</td>\n",
       "      <td>450000</td>\n",
       "      <td>141000</td>\n",
       "      <td>Diesel</td>\n",
       "      <td>Individual</td>\n",
       "      <td>Manual</td>\n",
       "      <td>Second Owner</td>\n",
       "    </tr>\n",
       "  </tbody>\n",
       "</table>\n",
       "</div>"
      ],
      "text/plain": [
       "                       name    year  selling_price  km_driven    fuel  \\\n",
       "0             Maruti 800 AC  2007.0          60000      70000  Petrol   \n",
       "1  Maruti Wagon R LXI Minor  2007.0         135000      50000  Petrol   \n",
       "2      Hyundai Verna 1.6 SX  2012.0         600000     100000  Diesel   \n",
       "3    Datsun RediGO T Option  2017.0         250000      46000  Petrol   \n",
       "4     Honda Amaze VX i-DTEC  2014.0         450000     141000  Diesel   \n",
       "\n",
       "  seller_type transmission         owner  \n",
       "0  Individual       Manual   First Owner  \n",
       "1  Individual       Manual   First Owner  \n",
       "2  Individual       Manual   First Owner  \n",
       "3  Individual       Manual   First Owner  \n",
       "4  Individual       Manual  Second Owner  "
      ]
     },
     "execution_count": 8,
     "metadata": {},
     "output_type": "execute_result"
    }
   ],
   "source": [
    "car_sells_cleaned.head()"
   ]
  },
  {
   "cell_type": "code",
   "execution_count": 9,
   "id": "e177e2dd",
   "metadata": {},
   "outputs": [
    {
     "name": "stdout",
     "output_type": "stream",
     "text": [
      "<class 'pandas.core.frame.DataFrame'>\n",
      "RangeIndex: 3657 entries, 0 to 3656\n",
      "Data columns (total 8 columns):\n",
      " #   Column         Non-Null Count  Dtype  \n",
      "---  ------         --------------  -----  \n",
      " 0   name           3657 non-null   object \n",
      " 1   year           3657 non-null   float64\n",
      " 2   selling_price  3657 non-null   int64  \n",
      " 3   km_driven      3657 non-null   int64  \n",
      " 4   fuel           3657 non-null   object \n",
      " 5   seller_type    3657 non-null   object \n",
      " 6   transmission   3657 non-null   object \n",
      " 7   owner          3657 non-null   object \n",
      "dtypes: float64(1), int64(2), object(5)\n",
      "memory usage: 228.7+ KB\n"
     ]
    }
   ],
   "source": [
    "car_sells_cleaned.info()"
   ]
  },
  {
   "cell_type": "code",
   "execution_count": 11,
   "id": "f51a66d4",
   "metadata": {},
   "outputs": [
    {
     "data": {
      "text/html": [
       "<div>\n",
       "<style scoped>\n",
       "    .dataframe tbody tr th:only-of-type {\n",
       "        vertical-align: middle;\n",
       "    }\n",
       "\n",
       "    .dataframe tbody tr th {\n",
       "        vertical-align: top;\n",
       "    }\n",
       "\n",
       "    .dataframe thead th {\n",
       "        text-align: right;\n",
       "    }\n",
       "</style>\n",
       "<table border=\"1\" class=\"dataframe\">\n",
       "  <thead>\n",
       "    <tr style=\"text-align: right;\">\n",
       "      <th></th>\n",
       "      <th>year</th>\n",
       "      <th>selling_price</th>\n",
       "      <th>km_driven</th>\n",
       "    </tr>\n",
       "  </thead>\n",
       "  <tbody>\n",
       "    <tr>\n",
       "      <th>count</th>\n",
       "      <td>3657.000000</td>\n",
       "      <td>3.657000e+03</td>\n",
       "      <td>3657.000000</td>\n",
       "    </tr>\n",
       "    <tr>\n",
       "      <th>mean</th>\n",
       "      <td>2013.123599</td>\n",
       "      <td>4.945088e+05</td>\n",
       "      <td>66560.660924</td>\n",
       "    </tr>\n",
       "    <tr>\n",
       "      <th>std</th>\n",
       "      <td>4.119128</td>\n",
       "      <td>5.579230e+05</td>\n",
       "      <td>47007.819292</td>\n",
       "    </tr>\n",
       "    <tr>\n",
       "      <th>min</th>\n",
       "      <td>1995.000000</td>\n",
       "      <td>2.000000e+04</td>\n",
       "      <td>1.000000</td>\n",
       "    </tr>\n",
       "    <tr>\n",
       "      <th>25%</th>\n",
       "      <td>2011.000000</td>\n",
       "      <td>2.100000e+05</td>\n",
       "      <td>35000.000000</td>\n",
       "    </tr>\n",
       "    <tr>\n",
       "      <th>50%</th>\n",
       "      <td>2014.000000</td>\n",
       "      <td>3.500000e+05</td>\n",
       "      <td>60000.000000</td>\n",
       "    </tr>\n",
       "    <tr>\n",
       "      <th>75%</th>\n",
       "      <td>2016.000000</td>\n",
       "      <td>6.000000e+05</td>\n",
       "      <td>90000.000000</td>\n",
       "    </tr>\n",
       "    <tr>\n",
       "      <th>max</th>\n",
       "      <td>2020.000000</td>\n",
       "      <td>8.900000e+06</td>\n",
       "      <td>806599.000000</td>\n",
       "    </tr>\n",
       "  </tbody>\n",
       "</table>\n",
       "</div>"
      ],
      "text/plain": [
       "              year  selling_price      km_driven\n",
       "count  3657.000000   3.657000e+03    3657.000000\n",
       "mean   2013.123599   4.945088e+05   66560.660924\n",
       "std       4.119128   5.579230e+05   47007.819292\n",
       "min    1995.000000   2.000000e+04       1.000000\n",
       "25%    2011.000000   2.100000e+05   35000.000000\n",
       "50%    2014.000000   3.500000e+05   60000.000000\n",
       "75%    2016.000000   6.000000e+05   90000.000000\n",
       "max    2020.000000   8.900000e+06  806599.000000"
      ]
     },
     "execution_count": 11,
     "metadata": {},
     "output_type": "execute_result"
    }
   ],
   "source": [
    "car_sells_cleaned.describe()"
   ]
  },
  {
   "cell_type": "code",
   "execution_count": 12,
   "id": "9c9cf59b",
   "metadata": {},
   "outputs": [
    {
     "data": {
      "text/plain": [
       "name             0\n",
       "year             0\n",
       "selling_price    0\n",
       "km_driven        0\n",
       "fuel             0\n",
       "seller_type      0\n",
       "transmission     0\n",
       "owner            0\n",
       "dtype: int64"
      ]
     },
     "execution_count": 12,
     "metadata": {},
     "output_type": "execute_result"
    }
   ],
   "source": [
    "car_sells_cleaned.isnull().sum()"
   ]
  },
  {
   "cell_type": "markdown",
   "metadata": {
    "id": "C3DFUuGXklO_"
   },
   "source": [
    "### Q3: Split Training and Testing Data\n",
    "* Machine learning models are trained to help make predictions for the future. Normally, we need to randomly split the dataset into training and testing sets, where we use the training set to train the model, and then leverage the well-trained model to make predictions on the testing set.\n",
    "* To further investigate whether the size of the training/testing data affects the model performance, please randomly split the data into training and testing sets with different sizes:\n",
    "    * Case 1: training data containing 10% of the entire data;\n",
    "    * Case 2: training data containing 90% of the entire data.\n",
    "* Print the shape of training and testing sets in the two cases."
   ]
  },
  {
   "cell_type": "code",
   "execution_count": 13,
   "id": "8c92a97b",
   "metadata": {},
   "outputs": [
    {
     "data": {
      "text/html": [
       "<div>\n",
       "<style scoped>\n",
       "    .dataframe tbody tr th:only-of-type {\n",
       "        vertical-align: middle;\n",
       "    }\n",
       "\n",
       "    .dataframe tbody tr th {\n",
       "        vertical-align: top;\n",
       "    }\n",
       "\n",
       "    .dataframe thead th {\n",
       "        text-align: right;\n",
       "    }\n",
       "</style>\n",
       "<table border=\"1\" class=\"dataframe\">\n",
       "  <thead>\n",
       "    <tr style=\"text-align: right;\">\n",
       "      <th></th>\n",
       "      <th>owner</th>\n",
       "      <th>owner_code</th>\n",
       "    </tr>\n",
       "  </thead>\n",
       "  <tbody>\n",
       "    <tr>\n",
       "      <th>0</th>\n",
       "      <td>First Owner</td>\n",
       "      <td>0.0</td>\n",
       "    </tr>\n",
       "    <tr>\n",
       "      <th>1</th>\n",
       "      <td>First Owner</td>\n",
       "      <td>0.0</td>\n",
       "    </tr>\n",
       "    <tr>\n",
       "      <th>2</th>\n",
       "      <td>First Owner</td>\n",
       "      <td>0.0</td>\n",
       "    </tr>\n",
       "    <tr>\n",
       "      <th>3</th>\n",
       "      <td>First Owner</td>\n",
       "      <td>0.0</td>\n",
       "    </tr>\n",
       "    <tr>\n",
       "      <th>4</th>\n",
       "      <td>Second Owner</td>\n",
       "      <td>1.0</td>\n",
       "    </tr>\n",
       "    <tr>\n",
       "      <th>5</th>\n",
       "      <td>First Owner</td>\n",
       "      <td>0.0</td>\n",
       "    </tr>\n",
       "    <tr>\n",
       "      <th>6</th>\n",
       "      <td>Second Owner</td>\n",
       "      <td>1.0</td>\n",
       "    </tr>\n",
       "    <tr>\n",
       "      <th>7</th>\n",
       "      <td>First Owner</td>\n",
       "      <td>0.0</td>\n",
       "    </tr>\n",
       "    <tr>\n",
       "      <th>8</th>\n",
       "      <td>First Owner</td>\n",
       "      <td>0.0</td>\n",
       "    </tr>\n",
       "    <tr>\n",
       "      <th>9</th>\n",
       "      <td>First Owner</td>\n",
       "      <td>0.0</td>\n",
       "    </tr>\n",
       "  </tbody>\n",
       "</table>\n",
       "</div>"
      ],
      "text/plain": [
       "          owner  owner_code\n",
       "0   First Owner         0.0\n",
       "1   First Owner         0.0\n",
       "2   First Owner         0.0\n",
       "3   First Owner         0.0\n",
       "4  Second Owner         1.0\n",
       "5   First Owner         0.0\n",
       "6  Second Owner         1.0\n",
       "7   First Owner         0.0\n",
       "8   First Owner         0.0\n",
       "9   First Owner         0.0"
      ]
     },
     "execution_count": 13,
     "metadata": {},
     "output_type": "execute_result"
    }
   ],
   "source": [
    "#2.2 Encoding\n",
    "from sklearn.preprocessing import OrdinalEncoder\n",
    "ordinal_enco=OrdinalEncoder()\n",
    "#encoding the \"fuel\" to \"fuel_code\"\n",
    "car_sells_cleaned[\"fuel_code\"]=ordinal_enco.fit_transform(car_sells_cleaned[[\"fuel\"]])\n",
    "car_sells_cleaned[[\"fuel\",\"fuel_code\"]].head(10)\n",
    "#encoding for seller_type\n",
    "car_sells_cleaned[\"seller_type_code\"]=ordinal_enco.fit_transform(car_sells_cleaned[[\"seller_type\"]])\n",
    "car_sells_cleaned[[\"seller_type\",\"seller_type_code\"]].head(10)\n",
    "#encoding for \"owner\"\n",
    "car_sells_cleaned[\"owner_code\"]=ordinal_enco.fit_transform(car_sells_cleaned[[\"owner\"]])\n",
    "car_sells_cleaned[[\"owner\",\"owner_code\"]].head(10)"
   ]
  },
  {
   "cell_type": "code",
   "execution_count": 15,
   "id": "78b94a11",
   "metadata": {},
   "outputs": [
    {
     "name": "stdout",
     "output_type": "stream",
     "text": [
      "correlation between year and price is: 0.41110276220633124\n",
      "correlation between km_driven and price is: -0.17720277985723884\n",
      "correlation between fuel and price is: -0.2776270434173492\n",
      "correlation between seller_type and price is: -0.20863704840276948\n",
      "correlation between owner and price is: -0.2055235873112245\n",
      "correlation between selling price and selling price is: 1.0\n"
     ]
    }
   ],
   "source": [
    "#year and selling_price\n",
    "\n",
    "correlation_year_price=car_sells_cleaned[\"year\"].corr(car_sells_cleaned[\"selling_price\"])\n",
    "print(\"correlation between year and price is:\", correlation_year_price)\n",
    "#km driven and selling price\n",
    "correlation_km_price=car_sells_cleaned[\"km_driven\"].corr(car_sells_cleaned[\"selling_price\"])\n",
    "print(\"correlation between km_driven and price is:\", correlation_km_price)\n",
    "#fuel and selling_price\n",
    "correlation_fuel_price =car_sells_cleaned[\"fuel_code\"].corr(car_sells_cleaned[\"selling_price\"])\n",
    "print(\"correlation between fuel and price is:\", correlation_fuel_price)\n",
    "#seller_type and selling_price\n",
    "correlation_seller_price=car_sells_cleaned[\"seller_type_code\"].corr(car_sells_cleaned[\"selling_price\"])\n",
    "print(\"correlation between seller_type and price is:\", correlation_seller_price)\n",
    "#owner and selling_price\n",
    "correlation_owner_price=car_sells_cleaned[\"owner_code\"].corr(car_sells_cleaned[\"selling_price\"])\n",
    "print(\"correlation between owner and price is:\", correlation_owner_price)\n",
    "correlation_selling_price=car_sells_cleaned[\"selling_price\"].corr(car_sells_cleaned[\"selling_price\"])\n",
    "print(\"correlation between selling price and selling price is:\", correlation_selling_price)\n",
    "\n",
    "\n"
   ]
  },
  {
   "cell_type": "markdown",
   "metadata": {
    "id": "WiNRCPFoklO_"
   },
   "source": [
    "### Q4: Train Linear Regression Models with Feature Selection under Cases 1 & 2\n",
    "* When training a machine learning model for prediction, we may need to select the most important/correlated input features for more accurate results.\n",
    "* To investigate whether feature selection affects the model performance, please select two most correlated features and two least correlated features regarding selling_price, respectively.\n",
    "* Train four linear regression models by following the conditions:\n",
    "    - (model-a) using the training/testing data in case 1 with two most correlated input features\n",
    "    - (model-b) using the training/testing data in case 1 with two least correlated input features\n",
    "    - (model-c) using the training/testing data in case 2 with two most correlated input features\n",
    "    - (model-d) using the training/testing data in case 2 with two least correlated input features\n",
    "* By doing this, we can verify the impacts of the size of traing/testing data on the model performance via comparing model-a and model-c (or model-b and model-d); meanwhile the impacts of feature selection can be validated via comparing model-a and model-b (or model-c and model-d).    "
   ]
  },
  {
   "cell_type": "code",
   "execution_count": 16,
   "id": "bfb4dee4",
   "metadata": {},
   "outputs": [
    {
     "name": "stdout",
     "output_type": "stream",
     "text": [
      "(3657, 11)\n",
      "(365, 11)\n",
      "(3292, 11)\n"
     ]
    }
   ],
   "source": [
    "# case 1\n",
    "train_case1, test_case1=train_test_split(car_sells_cleaned, test_size=0.9, random_state=42)\n",
    "print(car_sells_cleaned.shape)\n",
    "print(train_case1.shape)\n",
    "print(test_case1.shape)"
   ]
  },
  {
   "cell_type": "code",
   "execution_count": 17,
   "id": "17b0bffa",
   "metadata": {},
   "outputs": [
    {
     "name": "stdout",
     "output_type": "stream",
     "text": [
      "(3657, 11)\n",
      "(3291, 11)\n",
      "(366, 11)\n"
     ]
    }
   ],
   "source": [
    "#case2\n",
    "train_case2, test_case2 = train_test_split(car_sells_cleaned, test_size=0.1, random_state=42)\n",
    "print(car_sells_cleaned.shape)\n",
    "print(train_case2.shape)\n",
    "print(test_case2.shape)"
   ]
  },
  {
   "cell_type": "code",
   "execution_count": 18,
   "id": "321f609e",
   "metadata": {},
   "outputs": [
    {
     "data": {
      "text/plain": [
       "LinearRegression()"
      ]
     },
     "execution_count": 18,
     "metadata": {},
     "output_type": "execute_result"
    }
   ],
   "source": [
    "# model a, dataset case 1, 2 most correalated input features(from question 2)\n",
    "\n",
    "lr_a = linear_model.LinearRegression()\n",
    "x_train_a = train_case1[[\"fuel_code\",\"year\"]] #check once\n",
    "y_train_a = train_case1[\"selling_price\"]\n",
    "x_test_a = test_case1[[\"fuel_code\",\"year\"]]\n",
    "y_test_a = test_case1[\"selling_price\"]\n",
    "lr_a.fit(x_train_a,y_train_a)\n",
    "\n",
    "# model b, dataset case 1, 2 most correalated input features(from question 2)\n",
    "lr_b = linear_model.LinearRegression()\n",
    "x_train_b = train_case1[[\"km_driven\",\"seller_type_code\"]] #check once\n",
    "y_train_b = train_case1[\"selling_price\"]\n",
    "x_test_b = test_case1[[\"km_driven\",\"seller_type_code\"]]\n",
    "y_test_b = test_case1[\"selling_price\"]\n",
    "lr_b.fit(x_train_b,y_train_b)\n",
    "# model c, dataset case 1, 2 most correalated input features(from question 2)\n",
    "lr_c = linear_model.LinearRegression()\n",
    "x_train_c = train_case2[[\"fuel_code\",\"year\"]] #check once\n",
    "y_train_c = train_case2[\"selling_price\"]\n",
    "x_test_c = test_case2[[\"fuel_code\",\"year\"]]\n",
    "y_test_c = test_case2[\"selling_price\"]\n",
    "lr_c.fit(x_train_c,y_train_c)\n",
    "# model d, dataset case 1, 2 most correalated input features(from question 2)\n",
    "lr_d = linear_model.LinearRegression()\n",
    "x_train_d = train_case2[[\"km_driven\",\"seller_type_code\"]]\n",
    "y_train_d = train_case2[\"selling_price\"] #check once\n",
    "x_test_d = test_case2[[\"km_driven\",\"seller_type_code\"]]\n",
    "y_test_d = test_case2[\"selling_price\"]\n",
    "lr_d.fit(x_train_d,y_train_d)"
   ]
  },
  {
   "cell_type": "markdown",
   "metadata": {
    "id": "uIHDIRCYklO_"
   },
   "source": [
    "### Q5: Evaluate Models\n",
    "* Evaluate the performance of the four models with two metrics, including MSE and Root MSE\n",
    "* Print the results of the four models regarding the two metrics"
   ]
  },
  {
   "cell_type": "code",
   "execution_count": 19,
   "id": "bf7950e3",
   "metadata": {},
   "outputs": [
    {
     "name": "stdout",
     "output_type": "stream",
     "text": [
      "The mse for model a is: 240873725575.0944\n",
      "The rmse for model a is: 490788.88085926964\n"
     ]
    }
   ],
   "source": [
    "from sklearn.metrics import mean_squared_error  #mean_square_error was renamed to mean_squared_error\n",
    "# MSE and RMSE for model a\n",
    "predicted_a=lr_a.predict(x_test_a)\n",
    "mse_a=mean_squared_error(y_test_a,predicted_a)\n",
    "rmse_a=np.sqrt(mse_a)\n",
    "print(\"The mse for model a is:\",mse_a)\n",
    "print(\"The rmse for model a is:\",rmse_a)"
   ]
  },
  {
   "cell_type": "code",
   "execution_count": 20,
   "id": "83cb6ca1",
   "metadata": {},
   "outputs": [
    {
     "name": "stdout",
     "output_type": "stream",
     "text": [
      "The mse for model b is: 293974338695.7127\n",
      "The rmse for model b is: 542194.0046659615\n"
     ]
    }
   ],
   "source": [
    "# MSE and RMSE for model b\n",
    "predicted_b=lr_b.predict(x_test_b)\n",
    "mse_b=mean_squared_error(y_test_b,predicted_b)\n",
    "rmse_b=np.sqrt(mse_b)\n",
    "print(\"The mse for model b is:\",mse_b)\n",
    "print(\"The rmse for model b is:\",rmse_b)"
   ]
  },
  {
   "cell_type": "code",
   "execution_count": 21,
   "id": "dec807a1",
   "metadata": {},
   "outputs": [
    {
     "name": "stdout",
     "output_type": "stream",
     "text": [
      "The mse for model c is: 141350876932.57758\n",
      "The rmse for model c is: 375966.5901813319\n"
     ]
    }
   ],
   "source": [
    "# MSE and RMSE for model c\n",
    "predicted_c=lr_c.predict(x_test_c)\n",
    "mse_c=mean_squared_error(y_test_c,predicted_c)\n",
    "rmse_c=np.sqrt(mse_c)\n",
    "print(\"The mse for model c is:\",mse_c)\n",
    "print(\"The rmse for model c is:\",rmse_c)"
   ]
  },
  {
   "cell_type": "code",
   "execution_count": 22,
   "id": "6d783cae",
   "metadata": {},
   "outputs": [
    {
     "name": "stdout",
     "output_type": "stream",
     "text": [
      "The mse for model d is: 200307720224.895\n",
      "The rmse for model d is: 447557.5049363992\n"
     ]
    }
   ],
   "source": [
    "# MSE and RMSE for model d\n",
    "predicted_d=lr_d.predict(x_test_d)\n",
    "mse_d=mean_squared_error(y_test_d,predicted_d)\n",
    "rmse_d=np.sqrt(mse_d)\n",
    "print(\"The mse for model d is:\",mse_d)\n",
    "print(\"The rmse for model d is:\",rmse_d)"
   ]
  },
  {
   "cell_type": "markdown",
   "metadata": {
    "id": "6wmgPAzpklPA"
   },
   "source": [
    "### Q6: Visualize, Compare and Analyze the Results\n",
    "* Visulize the results, and perform ___insightful analysis___ on the obtained results. For better visualization, you may need to carefully set the scale for the y-axis.\n",
    "* Normally, the model trained with most correlated features and more training data will get better results. Do you obtain the similar observations? If not, please ___explain the possible reasons___."
   ]
  },
  {
   "cell_type": "code",
   "execution_count": 23,
   "id": "d7de59ff",
   "metadata": {
    "id": "u0dpqTCmklPA"
   },
   "outputs": [
    {
     "data": {
      "image/png": "[encoded data removed]",
      "text/plain": [
       "<Figure size 576x432 with 1 Axes>"
      ]
     },
     "metadata": {
      "needs_background": "light"
     },
     "output_type": "display_data"
    }
   ],
   "source": [
    "import matplotlib.pyplot as plt\n",
    "\n",
    "# Sample data\n",
    "y_axis = [mse_a, mse_b, mse_c, mse_d]\n",
    "x_axis = [\"Model A\", \"Model B\", \"Model C\", \"Model D\"]\n",
    "\n",
    "# Create a bar chart with enhancements\n",
    "plt.figure(figsize=(8, 6))  # Set the figure size\n",
    "bars = plt.bar(x_axis, y_axis, color=['blue', 'black', 'red', 'green'], edgecolor='black')\n",
    "\n",
    "# Add titles and labels\n",
    "plt.title('Mean Squared Error of Models', fontsize=15, fontweight='bold')\n",
    "plt.xlabel('Models', fontsize=15)\n",
    "plt.ylabel('Mean Squared Error (MSE)', fontsize=15)\n",
    "\n",
    "# Show the plot\n",
    "plt.tight_layout()\n",
    "plt.show()"
   ]
  },
  {
   "cell_type": "markdown",
   "metadata": {},
   "source": [
    "### Analysis of Results in Simple Terms:\n",
    "\n",
    "- **Model C** has the smallest mean squared error (MSE), which mean it's the most accurate compared to different models. This tells that it might have been trained using more related and useful features. In contrast, **Model B** has the highest mean square error (MSE), which mean it performed the worst, possibly because it was trained with less number of helpfull features or underfitting of data.\n",
    "\n",
    "### the possible reasons are :\n",
    "\n",
    "- **Overfitting:** Sometimes, a model learns from the training of data, which includes noise or irrelevant patterns. This can happen if the model is too complex to understand or trained on a small dataset, which leads to do poorly on new data. This might be the case with Model B.\n",
    "  \n",
    "- **Data Quality:**  The data mioght have used to train Model B was not clean maybe it had errors or irrelevant information,the model might have learned the wrong things, resulting in a higher MSE.\n",
    "  \n",
    "- **Choosing the Right Features:** The Model C did well because it tried predicting usinf features that were directly related. This important selection can make a huge difference in how well a model performs.\n",
    "  \n",
    "- **Model Complexity:** If a model is too complex and is not tuned correctly, it can lead to poor results, as we might be seeing with Model B. Simpler models like Model C can sometimes perform better, especially if the data isn’t very complicated.\n",
    "  \n",
    "- **Amount of Training Data:** Having more or better-prepared data can significantly improve model performance. If Model C had more data to learn from, or the data was better processed, that could explain why it performed the best.\n",
    "\n"
   ]
  },
  {
   "cell_type": "markdown",
   "metadata": {},
   "source": [
    "### Q7: Data Science Ethics\n",
    "*Please read the following examples [Click here to read the example_1.](https://www.vox.com/covid-19-coronavirus-us-response-trump/2020/5/18/21262265/georgia-covid-19-cases-declining-reopening) [Click here to read the example_2.](https://viborc.com/ethics-and-ethical-data-visualization-a-complete-guide/)\n",
    "\n",
    "*Then view the picture ![My Image](figure_portfolio2.png \"This is my image\")\n",
    "Please compose an analysis of 100-200 words that evaluates potential ethical concerns associated with the infographic, detailing the reasons behind these issues.\n"
   ]
  },
  {
   "cell_type": "markdown",
   "metadata": {},
   "source": [
    "##  Analysis of potential ethical concerns associated with the infographic : -\n",
    "\n",
    "The infographic represents the two tables that shows the distribution of medals in 2008 summer olympics, the countries sorted by total medals in Table 1 and by gold medals in Table 2. Potential ethical concerns arise from the selective presentation of data, which could mislead the audience. \n",
    "\n",
    "Firstly, Table 1 shows that the United States performed well than other countries because it is ranked in 1st position based on total medals. However, Table 2 shows based on gold medals, Where China at the top of list, which could imply that China’s performance was excellent.The creator intends to promote the selective ranking approach.\n",
    "\n",
    "Additionally, the types of achivements has reflected based on choice of sorting method.and focousing on total number of medals than gold medals might grab the attention of public or audience which can downplay the top achivements which makes less important. \n",
    "\n",
    "Furthermore, Including references like \"Wolfe, 2015\" and \"Hardaway, 2008\" bottom raises concerns about whether the data is fair or up-to-date and relevant. one of the ethical issue here is about making sure that the information used is current one and accurate data because trusting on old data or inaccurate data can lead to a Distorted story.\n"
   ]
  }
 ],
 "metadata": {
  "colab": {
   "provenance": []
  },
  "kernelspec": {
   "display_name": "Python 3",
   "language": "python",
   "name": "python3"
  },
  "language_info": {
   "codemirror_mode": {
    "name": "ipython",
    "version": 3
   },
   "file_extension": ".py",
   "mimetype": "text/x-python",
   "name": "python",
   "nbconvert_exporter": "python",
   "pygments_lexer": "ipython3",
   "version": "3.8.5"
  }
 },
 "nbformat": 4,
 "nbformat_minor": 5
}
